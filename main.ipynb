{
 "cells": [
  {
   "cell_type": "code",
   "execution_count": 100,
   "metadata": {},
   "outputs": [],
   "source": [
    "import pandas as pd\n",
    "import os\n",
    "import urllib\n",
    "import json\n",
    "from tqdm import tqdm"
   ]
  },
  {
   "attachments": {},
   "cell_type": "markdown",
   "metadata": {},
   "source": [
    "# Get Data"
   ]
  },
  {
   "cell_type": "code",
   "execution_count": 115,
   "metadata": {},
   "outputs": [
    {
     "name": "stdout",
     "output_type": "stream",
     "text": [
      "              강산업 물품      단가 Unnamed: 2\n",
      "0            강력 20kg   27800        NaN\n",
      "1         영양중력분 20kg   25000        NaN\n",
      "2            박력 20kg   26500        NaN\n",
      "3            설탕 15kg   20200        NaN\n",
      "4            꽃소금 3kg    4800        NaN\n",
      "..               ...     ...        ...\n",
      "400          피자스페치 대    5500        NaN\n",
      "401          잠봉 500g   14100        NaN\n",
      "402              NaN     NaN        NaN\n",
      "403  아몬드분말버크 11.34kg  117360        NaN\n",
      "404        냉동난백액 9kg   61000        NaN\n",
      "\n",
      "[405 rows x 3 columns]\n"
     ]
    }
   ],
   "source": [
    "ROOT = os.path.abspath(os.getcwd())\n",
    "df = pd.read_excel(f\"{ROOT}/data/meta.xlsx\", sheet_name=None)[\"analysed_data\"]\n",
    "print(df)"
   ]
  },
  {
   "cell_type": "code",
   "execution_count": 116,
   "metadata": {},
   "outputs": [
    {
     "name": "stdout",
     "output_type": "stream",
     "text": [
      "              강산업 물품      단가\n",
      "0            강력 20kg   27800\n",
      "1         영양중력분 20kg   25000\n",
      "2            박력 20kg   26500\n",
      "3            설탕 15kg   20200\n",
      "4            꽃소금 3kg    4800\n",
      "..               ...     ...\n",
      "365          피자스페치 중    5200\n",
      "366          피자스페치 대    5500\n",
      "367          잠봉 500g   14100\n",
      "368  아몬드분말버크 11.34kg  117360\n",
      "369        냉동난백액 9kg   61000\n",
      "\n",
      "[370 rows x 2 columns]\n"
     ]
    }
   ],
   "source": [
    "df.drop([\"Unnamed: 2\"], axis=1, inplace=True)\n",
    "df.dropna(inplace=True)\n",
    "df.reset_index(drop=True, inplace=True)\n",
    "print(df)"
   ]
  },
  {
   "cell_type": "code",
   "execution_count": 117,
   "metadata": {},
   "outputs": [
    {
     "name": "stdout",
     "output_type": "stream",
     "text": [
      "55\n",
      "55\n"
     ]
    }
   ],
   "source": [
    "# 확인용 코드\n",
    "print(len(df)-len(df.drop_duplicates(subset=[\"강산업 물품\"])))\n",
    "\n",
    "\n",
    "\n",
    "Dup = {}\n",
    "Dup_idx = []\n",
    "for value in df[\"강산업 물품\"]:\n",
    "    Dup[value.split(\" \")[0]] = 0\n",
    "\n",
    "for idx, value in enumerate(df[\"강산업 물품\"]):\n",
    "    if Dup[value.split(\" \")[0]] == 0:\n",
    "        Dup[value.split(\" \")[0]] = 1\n",
    "    else:\n",
    "        Dup_idx.append(idx)\n",
    "        Dup[value.split(\" \")[0]] += 1\n",
    "\n",
    "Dup_len = 0\n",
    "for name, value in Dup.items():\n",
    "    if value > 1:\n",
    "        Dup_len += 1\n",
    "\n",
    "print(Dup_len)"
   ]
  },
  {
   "cell_type": "code",
   "execution_count": 118,
   "metadata": {},
   "outputs": [
    {
     "name": "stdout",
     "output_type": "stream",
     "text": [
      "              강산업 물품      단가\n",
      "0            강력 20kg   27800\n",
      "1         영양중력분 20kg   25000\n",
      "2            박력 20kg   26500\n",
      "3            설탕 15kg   20200\n",
      "4            꽃소금 3kg    4800\n",
      "..               ...     ...\n",
      "310         사각케익2호받침     400\n",
      "311         사각케익2호뚜껑     950\n",
      "312          피자스페치 중    5200\n",
      "313          피자스페치 대    5500\n",
      "314  아몬드분말버크 11.34kg  117360\n",
      "\n",
      "[315 rows x 2 columns]\n"
     ]
    }
   ],
   "source": [
    "df.drop_duplicates(subset=[\"강산업 물품\"], inplace=True)\n",
    "df.reset_index(drop=True, inplace=True)\n",
    "print(df)"
   ]
  },
  {
   "cell_type": "code",
   "execution_count": 123,
   "metadata": {},
   "outputs": [
    {
     "name": "stdout",
     "output_type": "stream",
     "text": [
      "보류 22쪽\n",
      "보류 23쪽\n",
      "보류 8\n",
      "보류 3300\n",
      "보류 9300\n",
      "보류 7100\n",
      "보류 7100\n",
      "보류 7500\n",
      "보류\n",
      "보류 148900\n",
      "보류 4500\n",
      "--------------------------\n",
      "total to remove:  11\n"
     ]
    }
   ],
   "source": [
    "re_idx = []\n",
    "for idx, value in enumerate(df[\"단가\"]):\n",
    "    if isinstance(value, str):\n",
    "        re_idx.append(idx)\n",
    "        print(value)\n",
    "print(\"--------------------------\")\n",
    "print(\"total to remove: \", len(re_idx))"
   ]
  },
  {
   "cell_type": "code",
   "execution_count": 124,
   "metadata": {},
   "outputs": [
    {
     "name": "stdout",
     "output_type": "stream",
     "text": [
      "              강산업 물품      단가\n",
      "0            강력 20kg   27800\n",
      "1         영양중력분 20kg   25000\n",
      "2            박력 20kg   26500\n",
      "3            설탕 15kg   20200\n",
      "4            꽃소금 3kg    4800\n",
      "..               ...     ...\n",
      "299         사각케익2호받침     400\n",
      "300         사각케익2호뚜껑     950\n",
      "301          피자스페치 중    5200\n",
      "302          피자스페치 대    5500\n",
      "303  아몬드분말버크 11.34kg  117360\n",
      "\n",
      "[304 rows x 2 columns]\n"
     ]
    }
   ],
   "source": [
    "df.drop(re_idx, inplace=True)\n",
    "df.reset_index(drop=True, inplace=True)\n",
    "print(df)"
   ]
  },
  {
   "cell_type": "code",
   "execution_count": 125,
   "metadata": {},
   "outputs": [
    {
     "name": "stderr",
     "output_type": "stream",
     "text": [
      "100%|██████████| 304/304 [01:37<00:00,  3.13it/s]\n"
     ]
    }
   ],
   "source": [
    "ROOT = os.path.abspath(os.getcwd())\n",
    "for name in tqdm(df[\"강산업 물품\"]):\n",
    "    query = urllib.parse.quote(name)\n",
    "\n",
    "    url = f\"https://openapi.naver.com/v1/search/shop.json?query={query}&display=100\"\n",
    "    client_id = \"4OQMv3YxrKsVojrlewHN\"\n",
    "    client_secret = \"v7mCeaUi1B\"\n",
    "\n",
    "    request = urllib.request.Request(url)\n",
    "    request.add_header(\"X-Naver-Client-id\", client_id)\n",
    "    request.add_header(\"X-Naver-Client-Secret\", client_secret)\n",
    "\n",
    "    response = urllib.request.urlopen(request)\n",
    "    response = response.read().decode(\"utf-8\")\n",
    "    response = json.loads(response)\n",
    "\n",
    "    with open(f\"{ROOT}/data/{name}.json\", \"w\") as f:\n",
    "        json.dump(response, f)"
   ]
  },
  {
   "attachments": {},
   "cell_type": "markdown",
   "metadata": {},
   "source": [
    "# Analysis"
   ]
  },
  {
   "cell_type": "code",
   "execution_count": 137,
   "metadata": {},
   "outputs": [],
   "source": [
    "file = open(f\"{ROOT}/data/description.txt\", \"w\")\n",
    "\n",
    "more_expensive = []\n",
    "for name, value in zip(df[\"강산업 물품\"], df['단가']):\n",
    "    low_price = 100000000\n",
    "    high_price = -1\n",
    "    total_price = 0\n",
    "\n",
    "    with open(f\"{ROOT}/data/{name}.json\", \"r\") as f:\n",
    "        data = json.load(f)\n",
    "        if 0 == len(data[\"items\"]):\n",
    "            break\n",
    "\n",
    "        for item in data['items']:\n",
    "            now_price = int(item['lprice'])\n",
    "            total_price += now_price\n",
    "            if high_price < now_price:\n",
    "                high_price = now_price\n",
    "            if low_price > now_price:\n",
    "                low_price = now_price\n",
    "    \n",
    "    divider = len(data['items'])\n",
    "    mean = total_price/divider\n",
    "    diff = round(value-mean)\n",
    "    if diff > 0:\n",
    "        more_expensive.append(name)        \n",
    "    file.write(f\"\\t{name}\\n\")\n",
    "    file.write(\"----------------------------------------------------\\n\")\n",
    "    file.write(\"diff(origin-mean):   {:+,}\\n\".format(diff))\n",
    "    file.write(\"origin:              {:,}\\n\".format(value))\n",
    "    file.write(\"mean:                {mean:,}   (samples: {samples})\\n\"\n",
    "               .format(mean=round(mean), \n",
    "                       samples=divider))\n",
    "    file.write(\"low:                 {:,}\\n\".format(low_price))\n",
    "    file.write(\"high:                {:,}\\n\".format(high_price))\n",
    "    file.write(\"####################################################\\n\")\n",
    "\n",
    "file.close()"
   ]
  },
  {
   "cell_type": "code",
   "execution_count": 140,
   "metadata": {},
   "outputs": [
    {
     "name": "stdout",
     "output_type": "stream",
     "text": [
      "total more expensive items:  23\n",
      "-------------------------------------------------\n",
      "에멘탈치즈가는쉬레드 750g\n",
      "에멘탈크림치즈 1kg\n",
      "피자치즈 2.5kg\n",
      "코코아분말 1kg\n",
      "건포도벌크 10kg\n",
      "건조크랜베리클래식 11.34kg\n",
      "몽블랑생지\n",
      "타르트외피\n",
      "파에테포요틴 2.5kg\n",
      "파인소프트T 10kg\n",
      "파인소프트C 2kg\n",
      "아몬드프라린 5kg\n",
      "오렌지스틱 1kg\n",
      "스위스밸리크림치즈 13.6kg\n",
      "조은밤홀 2kg\n",
      "다이스밤 7L\n",
      "피스타치오 1kg\n",
      "냉동난백액 9kg\n",
      "냉동참쑥 2kg\n",
      "드롭밀크초콜렛 5kg\n",
      "드롭화이트초콜렛 5kg\n",
      "홍국쌀가루 대두\n",
      "베이컨 1kg\n"
     ]
    }
   ],
   "source": [
    "print(\"total more expensive items: \", len(more_expensive))\n",
    "print(\"-------------------------------------------------\")\n",
    "for item_name in more_expensive:\n",
    "    print(item_name)"
   ]
  },
  {
   "cell_type": "code",
   "execution_count": null,
   "metadata": {},
   "outputs": [],
   "source": []
  }
 ],
 "metadata": {
  "kernelspec": {
   "display_name": "Python 3",
   "language": "python",
   "name": "python3"
  },
  "language_info": {
   "codemirror_mode": {
    "name": "ipython",
    "version": 3
   },
   "file_extension": ".py",
   "mimetype": "text/x-python",
   "name": "python",
   "nbconvert_exporter": "python",
   "pygments_lexer": "ipython3",
   "version": "3.9.6"
  },
  "orig_nbformat": 4
 },
 "nbformat": 4,
 "nbformat_minor": 2
}
